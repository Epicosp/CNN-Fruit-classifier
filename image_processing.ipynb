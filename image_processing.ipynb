{
 "cells": [
  {
   "cell_type": "code",
   "execution_count": 83,
   "metadata": {},
   "outputs": [],
   "source": [
    "from PIL import Image\n",
    "from os import listdir\n",
    "from os.path import isfile, join"
   ]
  },
  {
   "cell_type": "code",
   "execution_count": 91,
   "metadata": {},
   "outputs": [],
   "source": [
    "# crop the images down to smaller size\n",
    "def crop_image(path_to_image):\n",
    "    image = Image.open(path_to_image)\n",
    "    cropped_image = image.crop((300,450,900,1000))\n",
    "    cropped_image.save(path_to_image)\n",
    "    \n",
    "all_images = [f for f in listdir('banana_images') if isfile(join('banana_images', f))]\n",
    "\n",
    "for file in all_images:\n",
    "    crop_image(f'banana_images/{file}')"
   ]
  }
 ],
 "metadata": {
  "interpreter": {
   "hash": "303bd7e5a35b3e272c340f0d7d1e196fcdad8a3d3d22f16ccef349dc4b276f28"
  },
  "kernelspec": {
   "display_name": "Python 3.7.11 ('textML')",
   "language": "python",
   "name": "python3"
  },
  "language_info": {
   "codemirror_mode": {
    "name": "ipython",
    "version": 3
   },
   "file_extension": ".py",
   "mimetype": "text/x-python",
   "name": "python",
   "nbconvert_exporter": "python",
   "pygments_lexer": "ipython3",
   "version": "3.7.11"
  },
  "orig_nbformat": 4
 },
 "nbformat": 4,
 "nbformat_minor": 2
}
