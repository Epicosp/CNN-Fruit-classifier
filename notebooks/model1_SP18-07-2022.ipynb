{
 "cells": [
  {
   "cell_type": "code",
   "execution_count": 1,
   "metadata": {},
   "outputs": [],
   "source": [
    "import pandas as pd\n",
    "import numpy as np\n",
    "import cv2\n",
    "import os\n",
    "from os.path import isfile, join\n",
    "from sklearn.model_selection import train_test_split\n",
    "from sklearn.metrics import classification_report\n",
    "import tensorflow as tf\n",
    "from tensorflow.keras import layers, models, losses"
   ]
  },
  {
   "cell_type": "markdown",
   "metadata": {},
   "source": [
    "https://www.youtube.com/watch?v=0me3guauqOU"
   ]
  },
  {
   "cell_type": "code",
   "execution_count": 2,
   "metadata": {},
   "outputs": [],
   "source": [
    "# init x and y datasets\n",
    "X = []\n",
    "y = []\n",
    "\n",
    "# images of apples (encoded as 0)\n",
    "all_images = [f for f in os.listdir('apple_images') if isfile(join('apple_images', f))]\n",
    "\n",
    "for file in all_images:\n",
    "    img_arr=cv2.imread(f'apple_images/{file}')\n",
    "    img_arr=cv2.resize(img_arr,(256,256))\n",
    "    X.append(img_arr)\n",
    "    y.append(0)"
   ]
  },
  {
   "cell_type": "code",
   "execution_count": 3,
   "metadata": {},
   "outputs": [],
   "source": [
    "# images of bananas (encoded as 1)\n",
    "all_images = [f for f in os.listdir('banana_images') if isfile(join('banana_images', f))]\n",
    "\n",
    "for file in all_images:\n",
    "    img_arr=cv2.imread(f'banana_images/{file}')\n",
    "    img_arr=cv2.resize(img_arr,(256,256))\n",
    "    X.append(img_arr)\n",
    "    y.append(1)"
   ]
  },
  {
   "cell_type": "code",
   "execution_count": 4,
   "metadata": {},
   "outputs": [],
   "source": [
    "# convert datasets to numpy arrays, scale RGB values down by 255\n",
    "X_scaled = np.array(X)/255\n",
    "y = np.array(y)"
   ]
  },
  {
   "cell_type": "code",
   "execution_count": 5,
   "metadata": {},
   "outputs": [],
   "source": [
    "# training and testing data\n",
    "X_train, X_test, y_train, y_test = train_test_split(X_scaled, y, random_state=1)"
   ]
  },
  {
   "cell_type": "code",
   "execution_count": 6,
   "metadata": {},
   "outputs": [
    {
     "name": "stdout",
     "output_type": "stream",
     "text": [
      "Model: \"sequential\"\n",
      "_________________________________________________________________\n",
      " Layer (type)                Output Shape              Param #   \n",
      "=================================================================\n",
      " conv2d (Conv2D)             (None, 252, 252, 6)       456       \n",
      "                                                                 \n",
      " average_pooling2d (AverageP  (None, 126, 126, 6)      0         \n",
      " ooling2D)                                                       \n",
      "                                                                 \n",
      " leaky_re_lu (LeakyReLU)     (None, 126, 126, 6)       0         \n",
      "                                                                 \n",
      " conv2d_1 (Conv2D)           (None, 122, 122, 16)      2416      \n",
      "                                                                 \n",
      " average_pooling2d_1 (Averag  (None, 61, 61, 16)       0         \n",
      " ePooling2D)                                                     \n",
      "                                                                 \n",
      " leaky_re_lu_1 (LeakyReLU)   (None, 61, 61, 16)        0         \n",
      "                                                                 \n",
      " conv2d_2 (Conv2D)           (None, 57, 57, 120)       48120     \n",
      "                                                                 \n",
      " flatten (Flatten)           (None, 389880)            0         \n",
      "                                                                 \n",
      " dense (Dense)               (None, 84)                32750004  \n",
      "                                                                 \n",
      " dense_1 (Dense)             (None, 2)                 170       \n",
      "                                                                 \n",
      "=================================================================\n",
      "Total params: 32,801,166\n",
      "Trainable params: 32,801,166\n",
      "Non-trainable params: 0\n",
      "_________________________________________________________________\n"
     ]
    }
   ],
   "source": [
    "# build model architecture\n",
    "# model based on model seen at https://medium.com/analytics-vidhya/lenet-with-tensorflow-a35da0d503df\n",
    "model = models.Sequential()\n",
    "\n",
    "# First convolution/pooling\n",
    "model.add(layers.Conv2D(6, 5, activation='relu', input_shape=X_train.shape[1:]))\n",
    "model.add(layers.AveragePooling2D(2))\n",
    "model.add(layers.LeakyReLU(alpha=0.1))\n",
    "\n",
    "# Second convolution/pooling\n",
    "model.add(layers.Conv2D(16, 5, activation='relu'))\n",
    "model.add(layers.AveragePooling2D(2))\n",
    "model.add(layers.LeakyReLU(alpha=0.1))\n",
    "\n",
    "# Third convolution\n",
    "model.add(layers.Conv2D(120, 5, activation='relu'))\n",
    "model.add(layers.Flatten())\n",
    "\n",
    "# Binary classifier\n",
    "model.add(layers.Dense(84, activation='relu'))\n",
    "model.add(layers.Dense(2, activation='softmax'))\n",
    "model.summary()"
   ]
  },
  {
   "cell_type": "code",
   "execution_count": 7,
   "metadata": {},
   "outputs": [
    {
     "name": "stdout",
     "output_type": "stream",
     "text": [
      "Epoch 1/10\n",
      "123/123 [==============================] - 5s 16ms/step - loss: 0.5684 - accuracy: 0.8537\n",
      "Epoch 2/10\n",
      "123/123 [==============================] - 2s 15ms/step - loss: 0.5933 - accuracy: 0.9268\n",
      "Epoch 3/10\n",
      "123/123 [==============================] - 2s 15ms/step - loss: 0.0579 - accuracy: 0.9756 \n",
      "Epoch 4/10\n",
      "123/123 [==============================] - 2s 16ms/step - loss: 0.0828 - accuracy: 0.9756\n",
      "Epoch 5/10\n",
      "123/123 [==============================] - 2s 16ms/step - loss: 0.2497 - accuracy: 0.9756\n",
      "Epoch 6/10\n",
      "123/123 [==============================] - 2s 16ms/step - loss: 0.1807 - accuracy: 0.9675\n",
      "Epoch 7/10\n",
      "123/123 [==============================] - 2s 16ms/step - loss: 0.1315 - accuracy: 0.9268\n",
      "Epoch 8/10\n",
      "123/123 [==============================] - 2s 16ms/step - loss: 0.1890 - accuracy: 0.9675\n",
      "Epoch 9/10\n",
      "123/123 [==============================] - 2s 15ms/step - loss: 0.2247 - accuracy: 0.9350\n",
      "Epoch 10/10\n",
      "123/123 [==============================] - 2s 16ms/step - loss: 0.1814 - accuracy: 0.9431\n"
     ]
    }
   ],
   "source": [
    "# compile and fit the model\n",
    "model.compile(optimizer='adam', loss=losses.sparse_categorical_crossentropy, metrics=['accuracy'])\n",
    "history = model.fit(X_train, y_train, batch_size=1, epochs=10)"
   ]
  },
  {
   "cell_type": "code",
   "execution_count": 8,
   "metadata": {},
   "outputs": [],
   "source": [
    "# perform predictions\n",
    "predictions = model.predict(X_test)"
   ]
  },
  {
   "cell_type": "code",
   "execution_count": 9,
   "metadata": {},
   "outputs": [
    {
     "data": {
      "text/html": [
       "<div>\n",
       "<style scoped>\n",
       "    .dataframe tbody tr th:only-of-type {\n",
       "        vertical-align: middle;\n",
       "    }\n",
       "\n",
       "    .dataframe tbody tr th {\n",
       "        vertical-align: top;\n",
       "    }\n",
       "\n",
       "    .dataframe thead th {\n",
       "        text-align: right;\n",
       "    }\n",
       "</style>\n",
       "<table border=\"1\" class=\"dataframe\">\n",
       "  <thead>\n",
       "    <tr style=\"text-align: right;\">\n",
       "      <th></th>\n",
       "      <th>0</th>\n",
       "      <th>1</th>\n",
       "      <th>P</th>\n",
       "      <th>A</th>\n",
       "    </tr>\n",
       "  </thead>\n",
       "  <tbody>\n",
       "    <tr>\n",
       "      <th>0</th>\n",
       "      <td>1.000000e+00</td>\n",
       "      <td>3.218031e-15</td>\n",
       "      <td>0</td>\n",
       "      <td>0</td>\n",
       "    </tr>\n",
       "    <tr>\n",
       "      <th>1</th>\n",
       "      <td>1.000000e+00</td>\n",
       "      <td>2.567998e-15</td>\n",
       "      <td>0</td>\n",
       "      <td>0</td>\n",
       "    </tr>\n",
       "    <tr>\n",
       "      <th>2</th>\n",
       "      <td>2.978402e-05</td>\n",
       "      <td>9.999702e-01</td>\n",
       "      <td>1</td>\n",
       "      <td>1</td>\n",
       "    </tr>\n",
       "    <tr>\n",
       "      <th>3</th>\n",
       "      <td>1.000000e+00</td>\n",
       "      <td>2.925404e-16</td>\n",
       "      <td>0</td>\n",
       "      <td>0</td>\n",
       "    </tr>\n",
       "    <tr>\n",
       "      <th>4</th>\n",
       "      <td>4.740054e-09</td>\n",
       "      <td>1.000000e+00</td>\n",
       "      <td>1</td>\n",
       "      <td>1</td>\n",
       "    </tr>\n",
       "  </tbody>\n",
       "</table>\n",
       "</div>"
      ],
      "text/plain": [
       "              0             1  P  A\n",
       "0  1.000000e+00  3.218031e-15  0  0\n",
       "1  1.000000e+00  2.567998e-15  0  0\n",
       "2  2.978402e-05  9.999702e-01  1  1\n",
       "3  1.000000e+00  2.925404e-16  0  0\n",
       "4  4.740054e-09  1.000000e+00  1  1"
      ]
     },
     "execution_count": 9,
     "metadata": {},
     "output_type": "execute_result"
    }
   ],
   "source": [
    "# reverse endcoding from probablity to binary value\n",
    "predictions = pd.DataFrame(predictions)\n",
    "predictions['P'] = predictions.idxmax(axis = 1)\n",
    "predictions['A'] = y_test\n",
    "predictions.head()"
   ]
  },
  {
   "cell_type": "code",
   "execution_count": 10,
   "metadata": {},
   "outputs": [
    {
     "name": "stdout",
     "output_type": "stream",
     "text": [
      "              precision    recall  f1-score   support\n",
      "\n",
      "           0       0.81      1.00      0.90        22\n",
      "           1       1.00      0.75      0.86        20\n",
      "\n",
      "    accuracy                           0.88        42\n",
      "   macro avg       0.91      0.88      0.88        42\n",
      "weighted avg       0.90      0.88      0.88        42\n",
      "\n"
     ]
    }
   ],
   "source": [
    "# view model performance\n",
    "print (classification_report(y_test, predictions['P']))"
   ]
  },
  {
   "cell_type": "code",
   "execution_count": 11,
   "metadata": {},
   "outputs": [
    {
     "data": {
      "text/plain": [
       "TensorShape([1, 256, 256, 3])"
      ]
     },
     "execution_count": 11,
     "metadata": {},
     "output_type": "execute_result"
    }
   ],
   "source": [
    "apple=cv2.imread(f'test_images/lots_of_apples.jpg')\n",
    "apple=cv2.resize(apple,(256,256))\n",
    "apple = np.array(apple)\n",
    "apple = tf.expand_dims(apple, axis = 0)\n",
    "apple.shape"
   ]
  },
  {
   "cell_type": "code",
   "execution_count": 12,
   "metadata": {},
   "outputs": [
    {
     "name": "stdout",
     "output_type": "stream",
     "text": [
      "[[0. 1.]]\n"
     ]
    }
   ],
   "source": [
    "apple_prediction = print(model.predict(apple))"
   ]
  },
  {
   "cell_type": "code",
   "execution_count": 13,
   "metadata": {},
   "outputs": [
    {
     "data": {
      "text/html": [
       "<div>\n",
       "<style scoped>\n",
       "    .dataframe tbody tr th:only-of-type {\n",
       "        vertical-align: middle;\n",
       "    }\n",
       "\n",
       "    .dataframe tbody tr th {\n",
       "        vertical-align: top;\n",
       "    }\n",
       "\n",
       "    .dataframe thead th {\n",
       "        text-align: right;\n",
       "    }\n",
       "</style>\n",
       "<table border=\"1\" class=\"dataframe\">\n",
       "  <thead>\n",
       "    <tr style=\"text-align: right;\">\n",
       "      <th></th>\n",
       "    </tr>\n",
       "  </thead>\n",
       "  <tbody>\n",
       "  </tbody>\n",
       "</table>\n",
       "</div>"
      ],
      "text/plain": [
       "Empty DataFrame\n",
       "Columns: []\n",
       "Index: []"
      ]
     },
     "execution_count": 13,
     "metadata": {},
     "output_type": "execute_result"
    }
   ],
   "source": [
    "pd.DataFrame(apple_prediction)"
   ]
  }
 ],
 "metadata": {
  "interpreter": {
   "hash": "303bd7e5a35b3e272c340f0d7d1e196fcdad8a3d3d22f16ccef349dc4b276f28"
  },
  "kernelspec": {
   "display_name": "Python 3.7.11 ('textML')",
   "language": "python",
   "name": "python3"
  },
  "language_info": {
   "codemirror_mode": {
    "name": "ipython",
    "version": 3
   },
   "file_extension": ".py",
   "mimetype": "text/x-python",
   "name": "python",
   "nbconvert_exporter": "python",
   "pygments_lexer": "ipython3",
   "version": "3.7.11"
  },
  "orig_nbformat": 4
 },
 "nbformat": 4,
 "nbformat_minor": 2
}
