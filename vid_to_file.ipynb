{
 "cells": [
  {
   "cell_type": "code",
   "execution_count": 4,
   "metadata": {},
   "outputs": [],
   "source": [
    "import cv2"
   ]
  },
  {
   "cell_type": "code",
   "execution_count": 5,
   "metadata": {},
   "outputs": [],
   "source": [
    "def vid_to_file(path_to_vid):\n",
    "  # code courtesy of fireant from stack overflow\n",
    "  # https://stackoverflow.com/questions/33311153/python-extracting-and-saving-video-frames\n",
    "  vidcap = cv2.VideoCapture(path_to_vid)\n",
    "  success,image = vidcap.read()\n",
    "  count = 0\n",
    "  while success:\n",
    "    cv2.imwrite(\"banana_images/frame%d.jpg\" % count, image)     # save frame as JPEG file (can also save as png)      \n",
    "    success,image = vidcap.read()\n",
    "    print('Read a new frame: ', success)\n",
    "    count += 1"
   ]
  },
  {
   "cell_type": "code",
   "execution_count": null,
   "metadata": {},
   "outputs": [],
   "source": [
    "vid_to_file('apple.mp4')"
   ]
  },
  {
   "cell_type": "code",
   "execution_count": null,
   "metadata": {},
   "outputs": [],
   "source": [
    "vid_to_file('banana.mp4')"
   ]
  }
 ],
 "metadata": {
  "interpreter": {
   "hash": "303bd7e5a35b3e272c340f0d7d1e196fcdad8a3d3d22f16ccef349dc4b276f28"
  },
  "kernelspec": {
   "display_name": "Python 3.7.11 ('textML')",
   "language": "python",
   "name": "python3"
  },
  "language_info": {
   "codemirror_mode": {
    "name": "ipython",
    "version": 3
   },
   "file_extension": ".py",
   "mimetype": "text/x-python",
   "name": "python",
   "nbconvert_exporter": "python",
   "pygments_lexer": "ipython3",
   "version": "3.7.11"
  },
  "orig_nbformat": 4
 },
 "nbformat": 4,
 "nbformat_minor": 2
}
