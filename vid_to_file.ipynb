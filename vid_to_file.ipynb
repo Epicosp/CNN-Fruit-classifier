{
 "cells": [
  {
   "cell_type": "code",
   "execution_count": 1,
   "metadata": {},
   "outputs": [],
   "source": [
    "import cv2\n",
    "from os import listdir\n",
    "from os.path import isfile, join"
   ]
  },
  {
   "cell_type": "code",
   "execution_count": 2,
   "metadata": {},
   "outputs": [],
   "source": [
    "def vid_to_file(path_to_vid, save_location=):\n",
    "  ''' \n",
    "  function to extract individual frames as .jpg images from an mp4 file.\n",
    "  code courtesy of fireant from stack overflow\n",
    "  https://stackoverflow.com/questions/33311153/python-extracting-and-saving-video-frames\n",
    "  '''\n",
    "\n",
    "  # init video capture object, with mp4 file\n",
    "  vidcap = cv2.VideoCapture(path_to_vid)\n",
    "\n",
    "  #read the first frame of the mp4\n",
    "  success,image = vidcap.read()\n",
    "\n",
    "  # use loop to progress through each frame and save to jpg\n",
    "  count = 0\n",
    "  while success:\n",
    "    cv2.imwrite(f'{save_location}/frame%d.jpg' % count, image)    \n",
    "    success,image = vidcap.read()\n",
    "    print('Read a new frame: ', success)\n",
    "    count += 1"
   ]
  },
  {
   "cell_type": "code",
   "execution_count": 5,
   "metadata": {},
   "outputs": [
    {
     "data": {
      "text/plain": [
       "['apple.mp4', 'banana.mp4']"
      ]
     },
     "execution_count": 5,
     "metadata": {},
     "output_type": "execute_result"
    }
   ],
   "source": [
    "# get list of all video files\n",
    "all_videos = [file for file in listdir('vid_files') if isfile(join('vid_files', file))]\n",
    "all_videos"
   ]
  },
  {
   "cell_type": "code",
   "execution_count": null,
   "metadata": {},
   "outputs": [],
   "source": [
    "for video in all_videos:\n",
    "    vid_to_file(f'vid_files{video}')"
   ]
  }
 ],
 "metadata": {
  "interpreter": {
   "hash": "303bd7e5a35b3e272c340f0d7d1e196fcdad8a3d3d22f16ccef349dc4b276f28"
  },
  "kernelspec": {
   "display_name": "Python 3.7.11 ('textML')",
   "language": "python",
   "name": "python3"
  },
  "language_info": {
   "codemirror_mode": {
    "name": "ipython",
    "version": 3
   },
   "file_extension": ".py",
   "mimetype": "text/x-python",
   "name": "python",
   "nbconvert_exporter": "python",
   "pygments_lexer": "ipython3",
   "version": "3.7.11"
  },
  "orig_nbformat": 4
 },
 "nbformat": 4,
 "nbformat_minor": 2
}
